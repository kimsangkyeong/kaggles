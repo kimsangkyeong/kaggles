{
 "cells": [
  {
   "cell_type": "code",
   "execution_count": 1,
   "id": "022155da",
   "metadata": {
    "_cell_guid": "b1076dfc-b9ad-4769-8c92-a6c4dae69d19",
    "_uuid": "8f2839f25d086af736a60e9eeb907d3b93b6e0e5",
    "execution": {
     "iopub.execute_input": "2022-09-24T09:28:33.410809Z",
     "iopub.status.busy": "2022-09-24T09:28:33.410150Z",
     "iopub.status.idle": "2022-09-24T09:28:33.438882Z",
     "shell.execute_reply": "2022-09-24T09:28:33.437522Z"
    },
    "papermill": {
     "duration": 0.042571,
     "end_time": "2022-09-24T09:28:33.444124",
     "exception": false,
     "start_time": "2022-09-24T09:28:33.401553",
     "status": "completed"
    },
    "tags": []
   },
   "outputs": [
    {
     "name": "stdout",
     "output_type": "stream",
     "text": [
      "/kaggle/input/competitive-data-science-predict-future-sales/items.csv\n",
      "/kaggle/input/competitive-data-science-predict-future-sales/sample_submission.csv\n",
      "/kaggle/input/competitive-data-science-predict-future-sales/item_categories.csv\n",
      "/kaggle/input/competitive-data-science-predict-future-sales/sales_train.csv\n",
      "/kaggle/input/competitive-data-science-predict-future-sales/shops.csv\n",
      "/kaggle/input/competitive-data-science-predict-future-sales/test.csv\n"
     ]
    }
   ],
   "source": [
    "# This Python 3 environment comes with many helpful analytics libraries installed\n",
    "# It is defined by the kaggle/python Docker image: https://github.com/kaggle/docker-python\n",
    "# For example, here's several helpful packages to load\n",
    "\n",
    "import numpy as np # linear algebra\n",
    "import pandas as pd # data processing, CSV file I/O (e.g. pd.read_csv)\n",
    "\n",
    "# Input data files are available in the read-only \"../input/\" directory\n",
    "# For example, running this (by clicking run or pressing Shift+Enter) will list all files under the input directory\n",
    "\n",
    "import os\n",
    "for dirname, _, filenames in os.walk('/kaggle/input'):\n",
    "    for filename in filenames:\n",
    "        print(os.path.join(dirname, filename))\n",
    "\n",
    "# You can write up to 20GB to the current directory (/kaggle/working/) that gets preserved as output when you create a version using \"Save & Run All\" \n",
    "# You can also write temporary files to /kaggle/temp/, but they won't be saved outside of the current session"
   ]
  },
  {
   "cell_type": "markdown",
   "id": "b19ad69d",
   "metadata": {
    "papermill": {
     "duration": 0.007734,
     "end_time": "2022-09-24T09:28:33.457740",
     "exception": false,
     "start_time": "2022-09-24T09:28:33.450006",
     "status": "completed"
    },
    "tags": []
   },
   "source": [
    "<div id = 1 style=\"color:white;    \n",
    "           display:fill;\n",
    "           border-radius:10px;\n",
    "           background-color:blue;\n",
    "           font-size:100%;\n",
    "           font-family:Verdana;\n",
    "           letter-spacing:0.5px;\n",
    "           display:flex;\n",
    "            justify-content:center;\">\n",
    "\n",
    "<h2 style=\"padding: 2rem;\n",
    "          color:white;\n",
    "          text-align:left;\n",
    "          margin:0 auto;\n",
    "          \">\n",
    "1. 환경 설정(Environment Setting)\n",
    "</h2>\n",
    "</div>"
   ]
  },
  {
   "cell_type": "markdown",
   "id": "41097d96",
   "metadata": {
    "execution": {
     "iopub.execute_input": "2022-09-24T08:16:39.567481Z",
     "iopub.status.busy": "2022-09-24T08:16:39.567004Z",
     "iopub.status.idle": "2022-09-24T08:16:39.574978Z",
     "shell.execute_reply": "2022-09-24T08:16:39.573296Z",
     "shell.execute_reply.started": "2022-09-24T08:16:39.567450Z"
    },
    "papermill": {
     "duration": 0.006951,
     "end_time": "2022-09-24T09:28:33.473335",
     "exception": false,
     "start_time": "2022-09-24T09:28:33.466384",
     "status": "completed"
    },
    "tags": []
   },
   "source": [
    "## 1.1 Library Import"
   ]
  },
  {
   "cell_type": "code",
   "execution_count": 2,
   "id": "f54d36a7",
   "metadata": {
    "execution": {
     "iopub.execute_input": "2022-09-24T09:28:33.483075Z",
     "iopub.status.busy": "2022-09-24T09:28:33.482710Z",
     "iopub.status.idle": "2022-09-24T09:28:37.101237Z",
     "shell.execute_reply": "2022-09-24T09:28:37.100255Z"
    },
    "papermill": {
     "duration": 3.626291,
     "end_time": "2022-09-24T09:28:37.103747",
     "exception": false,
     "start_time": "2022-09-24T09:28:33.477456",
     "status": "completed"
    },
    "tags": []
   },
   "outputs": [
    {
     "data": {
      "text/html": [
       "<style type='text/css'>\n",
       ".datatable table.frame { margin-bottom: 0; }\n",
       ".datatable table.frame thead { border-bottom: none; }\n",
       ".datatable table.frame tr.coltypes td {  color: #FFFFFF;  line-height: 6px;  padding: 0 0.5em;}\n",
       ".datatable .bool    { background: #DDDD99; }\n",
       ".datatable .object  { background: #565656; }\n",
       ".datatable .int     { background: #5D9E5D; }\n",
       ".datatable .float   { background: #4040CC; }\n",
       ".datatable .str     { background: #CC4040; }\n",
       ".datatable .time    { background: #40CC40; }\n",
       ".datatable .row_index {  background: var(--jp-border-color3);  border-right: 1px solid var(--jp-border-color0);  color: var(--jp-ui-font-color3);  font-size: 9px;}\n",
       ".datatable .frame tbody td { text-align: left; }\n",
       ".datatable .frame tr.coltypes .row_index {  background: var(--jp-border-color0);}\n",
       ".datatable th:nth-child(2) { padding-left: 12px; }\n",
       ".datatable .hellipsis {  color: var(--jp-cell-editor-border-color);}\n",
       ".datatable .vellipsis {  background: var(--jp-layout-color0);  color: var(--jp-cell-editor-border-color);}\n",
       ".datatable .na {  color: var(--jp-cell-editor-border-color);  font-size: 80%;}\n",
       ".datatable .sp {  opacity: 0.25;}\n",
       ".datatable .footer { font-size: 9px; }\n",
       ".datatable .frame_dimensions {  background: var(--jp-border-color3);  border-top: 1px solid var(--jp-border-color0);  color: var(--jp-ui-font-color3);  display: inline-block;  opacity: 0.6;  padding: 1px 10px 1px 5px;}\n",
       "</style>\n"
      ],
      "text/plain": [
       "<IPython.core.display.HTML object>"
      ]
     },
     "metadata": {},
     "output_type": "display_data"
    }
   ],
   "source": [
    "import warnings\n",
    "warnings.filterwarnings('ignore')\n",
    "\n",
    "# utilities \n",
    "from termcolor import colored\n",
    "\n",
    "# 데이터 읽기를 위한 라이브러리\n",
    "from pathlib import Path\n",
    "import numpy as np\n",
    "np.random.seed(0)\n",
    "import pandas as pd\n",
    "import math\n",
    "import gc, os, time\n",
    "import scipy as sp\n",
    "import statsmodels.api as sm\n",
    "from pandas import DataFrame, Series\n",
    "from datetime import datetime, date, timedelta\n",
    "from sklearn.preprocessing import StandardScaler, LabelEncoder\n",
    "\n",
    "# 탐색적 데이터 분석을 위한 라이브러리\n",
    "import seaborn as sns\n",
    "import matplotlib.pyplot as plt\n",
    "from scipy.stats import skew, norm, probplot, boxcox, boxcox_normmax\n",
    "from scipy.special import boxcox1p\n",
    "from scipy.stats import skew\n",
    "from scipy.special import boxcox1p, inv_boxcox\n",
    "\n",
    "# 모델링을 위한 라이브러리\n",
    "from sklearn.linear_model import Ridge, LinearRegression, ElasticNet, Lasso, LogisticRegression\n",
    "from sklearn.ensemble import RandomForestRegressor\n",
    "from sklearn.metrics import mean_squared_error\n",
    "from sklearn.model_selection import train_test_split, GridSearchCV\n",
    "from sklearn.feature_selection import SelectKBest, mutual_info_regression, VarianceThreshold, SelectFromModel, RFE, RFECV\n",
    "from sklearn.svm import SVR\n",
    "from xgboost import XGBRegressor\n",
    "from lightgbm import LGBMRegressor\n",
    "from mlxtend.regressor import StackingCVRegressor"
   ]
  },
  {
   "cell_type": "markdown",
   "id": "eb9388fc",
   "metadata": {
    "papermill": {
     "duration": 0.004051,
     "end_time": "2022-09-24T09:28:37.112371",
     "exception": false,
     "start_time": "2022-09-24T09:28:37.108320",
     "status": "completed"
    },
    "tags": []
   },
   "source": [
    "## 1.2 모델 성능을 확인하기 위한 함수"
   ]
  },
  {
   "cell_type": "code",
   "execution_count": 3,
   "id": "0f028a05",
   "metadata": {
    "execution": {
     "iopub.execute_input": "2022-09-24T09:28:37.122857Z",
     "iopub.status.busy": "2022-09-24T09:28:37.121823Z",
     "iopub.status.idle": "2022-09-24T09:28:48.418760Z",
     "shell.execute_reply": "2022-09-24T09:28:48.417614Z"
    },
    "papermill": {
     "duration": 11.304852,
     "end_time": "2022-09-24T09:28:48.421523",
     "exception": false,
     "start_time": "2022-09-24T09:28:37.116671",
     "status": "completed"
    },
    "tags": []
   },
   "outputs": [
    {
     "name": "stdout",
     "output_type": "stream",
     "text": [
      "\u001b[33mWARNING: Running pip as the 'root' user can result in broken permissions and conflicting behaviour with the system package manager. It is recommended to use a virtual environment instead: https://pip.pypa.io/warnings/venv\u001b[0m\u001b[33m\r\n",
      "\u001b[0m"
     ]
    }
   ],
   "source": [
    "# 모듈 설치\n",
    "!pip install teddynote -q\n",
    "from teddynote import utils\n",
    "\n",
    "# 그래프 사이즈 설정\n",
    "utils.set_plot_options(figsize=(10, 4))\n",
    "\n",
    "# MSE 에러 설정\n",
    "utils.set_plot_error('rmse')\n",
    "\n",
    "df_results = pd.DataFrame()"
   ]
  },
  {
   "cell_type": "markdown",
   "id": "ece83269",
   "metadata": {
    "papermill": {
     "duration": 0.004271,
     "end_time": "2022-09-24T09:28:48.430628",
     "exception": false,
     "start_time": "2022-09-24T09:28:48.426357",
     "status": "completed"
    },
    "tags": []
   },
   "source": [
    "## 1.3 DataFrame Option 설정"
   ]
  },
  {
   "cell_type": "code",
   "execution_count": 4,
   "id": "233bb8ff",
   "metadata": {
    "execution": {
     "iopub.execute_input": "2022-09-24T09:28:48.440901Z",
     "iopub.status.busy": "2022-09-24T09:28:48.440567Z",
     "iopub.status.idle": "2022-09-24T09:28:48.445669Z",
     "shell.execute_reply": "2022-09-24T09:28:48.444720Z"
    },
    "papermill": {
     "duration": 0.012564,
     "end_time": "2022-09-24T09:28:48.447647",
     "exception": false,
     "start_time": "2022-09-24T09:28:48.435083",
     "status": "completed"
    },
    "tags": []
   },
   "outputs": [],
   "source": [
    "pd.set_option(\"display.max_colwidth\", 999)  # 컬럼 정보 보여주기\n",
    "pd.set_option(\"display.max_rows\", 150)  # row 정보 보여주기\n",
    "# pd.reset_option(\"display.max_colwidth\")\n",
    "# 참고 : https://pandas.pydata.org/docs/user_guide/options.html"
   ]
  },
  {
   "cell_type": "markdown",
   "id": "30eb4c44",
   "metadata": {
    "papermill": {
     "duration": 0.004324,
     "end_time": "2022-09-24T09:28:48.456270",
     "exception": false,
     "start_time": "2022-09-24T09:28:48.451946",
     "status": "completed"
    },
    "tags": []
   },
   "source": [
    "<div id = 2 style=\"color:white;    \n",
    "           display:fill;\n",
    "           border-radius:10px;\n",
    "           background-color:blue;\n",
    "           font-size:100%;\n",
    "           font-family:Verdana;\n",
    "           letter-spacing:0.5px;\n",
    "           display:flex;\n",
    "            justify-content:center;\">\n",
    "\n",
    "<h2 style=\"padding: 2rem;\n",
    "          color:white;\n",
    "          text-align:left;\n",
    "          margin:0 auto;\n",
    "          \">\n",
    "2. 데이타 읽기(Data Loading)\n",
    "</h2>\n",
    "</div>"
   ]
  },
  {
   "cell_type": "markdown",
   "id": "55ad5553",
   "metadata": {
    "papermill": {
     "duration": 0.00409,
     "end_time": "2022-09-24T09:28:48.464565",
     "exception": false,
     "start_time": "2022-09-24T09:28:48.460475",
     "status": "completed"
    },
    "tags": []
   },
   "source": [
    "## 2.1 데이타 읽기"
   ]
  },
  {
   "cell_type": "code",
   "execution_count": 5,
   "id": "63e0bbb0",
   "metadata": {
    "execution": {
     "iopub.execute_input": "2022-09-24T09:28:48.475714Z",
     "iopub.status.busy": "2022-09-24T09:28:48.474248Z",
     "iopub.status.idle": "2022-09-24T09:28:51.156798Z",
     "shell.execute_reply": "2022-09-24T09:28:51.155817Z"
    },
    "papermill": {
     "duration": 2.690688,
     "end_time": "2022-09-24T09:28:51.159500",
     "exception": false,
     "start_time": "2022-09-24T09:28:48.468812",
     "status": "completed"
    },
    "tags": []
   },
   "outputs": [],
   "source": [
    "data_dir = Path(\"../input/competitive-data-science-predict-future-sales/\")\n",
    "df_item_category = pd.read_csv(data_dir / \"item_categories.csv\")  # pd.read_csv(data_dir / \"train.csv\", index_col=\"Id\")\n",
    "df_items = pd.read_csv(data_dir / \"items.csv\")  # pd.read_csv(data_dir / \"train.csv\", index_col=\"Id\")\n",
    "df_sales_train = pd.read_csv(data_dir / \"sales_train.csv\")  # pd.read_csv(data_dir / \"train.csv\", index_col=\"Id\")\n",
    "df_shops = pd.read_csv(data_dir / \"shops.csv\")  # pd.read_csv(data_dir / \"train.csv\", index_col=\"Id\")\n",
    "df_test = pd.read_csv(data_dir / \"test.csv\")  # pd.read_csv(data_dir / \"train.csv\", index_col=\"Id\")"
   ]
  },
  {
   "cell_type": "code",
   "execution_count": 6,
   "id": "03ee3b6a",
   "metadata": {
    "execution": {
     "iopub.execute_input": "2022-09-24T09:28:51.170915Z",
     "iopub.status.busy": "2022-09-24T09:28:51.169423Z",
     "iopub.status.idle": "2022-09-24T09:28:52.038984Z",
     "shell.execute_reply": "2022-09-24T09:28:52.037991Z"
    },
    "papermill": {
     "duration": 0.877246,
     "end_time": "2022-09-24T09:28:52.041383",
     "exception": false,
     "start_time": "2022-09-24T09:28:51.164137",
     "status": "completed"
    },
    "tags": []
   },
   "outputs": [
    {
     "data": {
      "text/html": [
       "<div>\n",
       "<style scoped>\n",
       "    .dataframe tbody tr th:only-of-type {\n",
       "        vertical-align: middle;\n",
       "    }\n",
       "\n",
       "    .dataframe tbody tr th {\n",
       "        vertical-align: top;\n",
       "    }\n",
       "\n",
       "    .dataframe thead th {\n",
       "        text-align: right;\n",
       "    }\n",
       "</style>\n",
       "<table border=\"1\" class=\"dataframe\">\n",
       "  <thead>\n",
       "    <tr style=\"text-align: right;\">\n",
       "      <th></th>\n",
       "      <th>item_category_name</th>\n",
       "      <th>item_category_id</th>\n",
       "    </tr>\n",
       "  </thead>\n",
       "  <tbody>\n",
       "    <tr>\n",
       "      <th>0</th>\n",
       "      <td>PC - Гарнитуры/Наушники</td>\n",
       "      <td>0</td>\n",
       "    </tr>\n",
       "    <tr>\n",
       "      <th>1</th>\n",
       "      <td>Аксессуары - PS2</td>\n",
       "      <td>1</td>\n",
       "    </tr>\n",
       "  </tbody>\n",
       "</table>\n",
       "</div>"
      ],
      "text/plain": [
       "        item_category_name  item_category_id\n",
       "0  PC - Гарнитуры/Наушники                 0\n",
       "1         Аксессуары - PS2                 1"
      ]
     },
     "metadata": {},
     "output_type": "display_data"
    },
    {
     "data": {
      "text/html": [
       "<div>\n",
       "<style scoped>\n",
       "    .dataframe tbody tr th:only-of-type {\n",
       "        vertical-align: middle;\n",
       "    }\n",
       "\n",
       "    .dataframe tbody tr th {\n",
       "        vertical-align: top;\n",
       "    }\n",
       "\n",
       "    .dataframe thead th {\n",
       "        text-align: right;\n",
       "    }\n",
       "</style>\n",
       "<table border=\"1\" class=\"dataframe\">\n",
       "  <thead>\n",
       "    <tr style=\"text-align: right;\">\n",
       "      <th></th>\n",
       "      <th>item_name</th>\n",
       "      <th>item_id</th>\n",
       "      <th>item_category_id</th>\n",
       "    </tr>\n",
       "  </thead>\n",
       "  <tbody>\n",
       "    <tr>\n",
       "      <th>0</th>\n",
       "      <td>! ВО ВЛАСТИ НАВАЖДЕНИЯ (ПЛАСТ.)         D</td>\n",
       "      <td>0</td>\n",
       "      <td>40</td>\n",
       "    </tr>\n",
       "    <tr>\n",
       "      <th>1</th>\n",
       "      <td>!ABBYY FineReader 12 Professional Edition Full [PC, Цифровая версия]</td>\n",
       "      <td>1</td>\n",
       "      <td>76</td>\n",
       "    </tr>\n",
       "  </tbody>\n",
       "</table>\n",
       "</div>"
      ],
      "text/plain": [
       "                                                              item_name  \\\n",
       "0                             ! ВО ВЛАСТИ НАВАЖДЕНИЯ (ПЛАСТ.)         D   \n",
       "1  !ABBYY FineReader 12 Professional Edition Full [PC, Цифровая версия]   \n",
       "\n",
       "   item_id  item_category_id  \n",
       "0        0                40  \n",
       "1        1                76  "
      ]
     },
     "metadata": {},
     "output_type": "display_data"
    },
    {
     "data": {
      "text/html": [
       "<div>\n",
       "<style scoped>\n",
       "    .dataframe tbody tr th:only-of-type {\n",
       "        vertical-align: middle;\n",
       "    }\n",
       "\n",
       "    .dataframe tbody tr th {\n",
       "        vertical-align: top;\n",
       "    }\n",
       "\n",
       "    .dataframe thead th {\n",
       "        text-align: right;\n",
       "    }\n",
       "</style>\n",
       "<table border=\"1\" class=\"dataframe\">\n",
       "  <thead>\n",
       "    <tr style=\"text-align: right;\">\n",
       "      <th></th>\n",
       "      <th>date</th>\n",
       "      <th>date_block_num</th>\n",
       "      <th>shop_id</th>\n",
       "      <th>item_id</th>\n",
       "      <th>item_price</th>\n",
       "      <th>item_cnt_day</th>\n",
       "    </tr>\n",
       "  </thead>\n",
       "  <tbody>\n",
       "    <tr>\n",
       "      <th>0</th>\n",
       "      <td>02.01.2013</td>\n",
       "      <td>0</td>\n",
       "      <td>59</td>\n",
       "      <td>22154</td>\n",
       "      <td>999.0</td>\n",
       "      <td>1.0</td>\n",
       "    </tr>\n",
       "    <tr>\n",
       "      <th>1</th>\n",
       "      <td>03.01.2013</td>\n",
       "      <td>0</td>\n",
       "      <td>25</td>\n",
       "      <td>2552</td>\n",
       "      <td>899.0</td>\n",
       "      <td>1.0</td>\n",
       "    </tr>\n",
       "  </tbody>\n",
       "</table>\n",
       "</div>"
      ],
      "text/plain": [
       "         date  date_block_num  shop_id  item_id  item_price  item_cnt_day\n",
       "0  02.01.2013               0       59    22154       999.0           1.0\n",
       "1  03.01.2013               0       25     2552       899.0           1.0"
      ]
     },
     "metadata": {},
     "output_type": "display_data"
    },
    {
     "data": {
      "text/html": [
       "<div>\n",
       "<style scoped>\n",
       "    .dataframe tbody tr th:only-of-type {\n",
       "        vertical-align: middle;\n",
       "    }\n",
       "\n",
       "    .dataframe tbody tr th {\n",
       "        vertical-align: top;\n",
       "    }\n",
       "\n",
       "    .dataframe thead th {\n",
       "        text-align: right;\n",
       "    }\n",
       "</style>\n",
       "<table border=\"1\" class=\"dataframe\">\n",
       "  <thead>\n",
       "    <tr style=\"text-align: right;\">\n",
       "      <th></th>\n",
       "      <th>shop_name</th>\n",
       "      <th>shop_id</th>\n",
       "    </tr>\n",
       "  </thead>\n",
       "  <tbody>\n",
       "    <tr>\n",
       "      <th>0</th>\n",
       "      <td>!Якутск Орджоникидзе, 56 фран</td>\n",
       "      <td>0</td>\n",
       "    </tr>\n",
       "    <tr>\n",
       "      <th>1</th>\n",
       "      <td>!Якутск ТЦ \"Центральный\" фран</td>\n",
       "      <td>1</td>\n",
       "    </tr>\n",
       "  </tbody>\n",
       "</table>\n",
       "</div>"
      ],
      "text/plain": [
       "                       shop_name  shop_id\n",
       "0  !Якутск Орджоникидзе, 56 фран        0\n",
       "1  !Якутск ТЦ \"Центральный\" фран        1"
      ]
     },
     "metadata": {},
     "output_type": "display_data"
    },
    {
     "data": {
      "text/html": [
       "<div>\n",
       "<style scoped>\n",
       "    .dataframe tbody tr th:only-of-type {\n",
       "        vertical-align: middle;\n",
       "    }\n",
       "\n",
       "    .dataframe tbody tr th {\n",
       "        vertical-align: top;\n",
       "    }\n",
       "\n",
       "    .dataframe thead th {\n",
       "        text-align: right;\n",
       "    }\n",
       "</style>\n",
       "<table border=\"1\" class=\"dataframe\">\n",
       "  <thead>\n",
       "    <tr style=\"text-align: right;\">\n",
       "      <th></th>\n",
       "      <th>ID</th>\n",
       "      <th>shop_id</th>\n",
       "      <th>item_id</th>\n",
       "    </tr>\n",
       "  </thead>\n",
       "  <tbody>\n",
       "    <tr>\n",
       "      <th>0</th>\n",
       "      <td>0</td>\n",
       "      <td>5</td>\n",
       "      <td>5037</td>\n",
       "    </tr>\n",
       "    <tr>\n",
       "      <th>1</th>\n",
       "      <td>1</td>\n",
       "      <td>5</td>\n",
       "      <td>5320</td>\n",
       "    </tr>\n",
       "  </tbody>\n",
       "</table>\n",
       "</div>"
      ],
      "text/plain": [
       "   ID  shop_id  item_id\n",
       "0   0        5     5037\n",
       "1   1        5     5320"
      ]
     },
     "metadata": {},
     "output_type": "display_data"
    }
   ],
   "source": [
    "for df in [df_item_category, df_items, df_sales_train, df_shops, df_test] :\n",
    "    display(df.head(2))\n",
    "df_train_raw = pd.merge(df_sales_train, df_items, how='left').drop(['item_name'], axis=1)"
   ]
  },
  {
   "cell_type": "code",
   "execution_count": 7,
   "id": "17fd9c3c",
   "metadata": {
    "execution": {
     "iopub.execute_input": "2022-09-24T09:28:52.055932Z",
     "iopub.status.busy": "2022-09-24T09:28:52.054160Z",
     "iopub.status.idle": "2022-09-24T09:28:52.071785Z",
     "shell.execute_reply": "2022-09-24T09:28:52.070638Z"
    },
    "papermill": {
     "duration": 0.028218,
     "end_time": "2022-09-24T09:28:52.075937",
     "exception": false,
     "start_time": "2022-09-24T09:28:52.047719",
     "status": "completed"
    },
    "tags": []
   },
   "outputs": [
    {
     "name": "stdout",
     "output_type": "stream",
     "text": [
      "<class 'pandas.core.frame.DataFrame'>\n",
      "Int64Index: 2935849 entries, 0 to 2935848\n",
      "Data columns (total 7 columns):\n",
      " #   Column            Dtype  \n",
      "---  ------            -----  \n",
      " 0   date              object \n",
      " 1   date_block_num    int64  \n",
      " 2   shop_id           int64  \n",
      " 3   item_id           int64  \n",
      " 4   item_price        float64\n",
      " 5   item_cnt_day      float64\n",
      " 6   item_category_id  int64  \n",
      "dtypes: float64(2), int64(4), object(1)\n",
      "memory usage: 179.2+ MB\n"
     ]
    }
   ],
   "source": [
    "df_train_raw.info()"
   ]
  },
  {
   "cell_type": "code",
   "execution_count": 8,
   "id": "c0f550e9",
   "metadata": {
    "execution": {
     "iopub.execute_input": "2022-09-24T09:28:52.088966Z",
     "iopub.status.busy": "2022-09-24T09:28:52.088652Z",
     "iopub.status.idle": "2022-09-24T09:28:52.095088Z",
     "shell.execute_reply": "2022-09-24T09:28:52.094035Z"
    },
    "papermill": {
     "duration": 0.015571,
     "end_time": "2022-09-24T09:28:52.097715",
     "exception": false,
     "start_time": "2022-09-24T09:28:52.082144",
     "status": "completed"
    },
    "tags": []
   },
   "outputs": [
    {
     "name": "stdout",
     "output_type": "stream",
     "text": [
      "\u001b[34mTraining data\u001b[0m -> ROWS: 2935849 COLUMNS: 7\n",
      "\u001b[31mTest data\u001b[0m -> ROWS: 214200 COLUMNS: 3\n"
     ]
    }
   ],
   "source": [
    "print(colored(f\"Training data\",\"blue\"),\"-> ROWS:\",df_train_raw.shape[0],\"COLUMNS:\",df_train_raw.shape[1])\n",
    "print(colored(f\"Test data\",\"red\"),\"-> ROWS:\",df_test.shape[0],\"COLUMNS:\",df_test.shape[1])"
   ]
  },
  {
   "cell_type": "markdown",
   "id": "5b5aa36e",
   "metadata": {
    "papermill": {
     "duration": 0.005043,
     "end_time": "2022-09-24T09:28:52.108811",
     "exception": false,
     "start_time": "2022-09-24T09:28:52.103768",
     "status": "completed"
    },
    "tags": []
   },
   "source": [
    "<div id = 2 style=\"color:white;    \n",
    "           display:fill;\n",
    "           border-radius:10px;\n",
    "           background-color:blue;\n",
    "           font-size:100%;\n",
    "           font-family:Verdana;\n",
    "           letter-spacing:0.5px;\n",
    "           display:flex;\n",
    "            justify-content:center;\">\n",
    "\n",
    "<h2 style=\"padding: 2rem;\n",
    "          color:white;\n",
    "          text-align:left;\n",
    "          margin:0 auto;\n",
    "          \">\n",
    "3. 탐색적 데이타분석 (EDA)\n",
    "</h2>\n",
    "</div>"
   ]
  },
  {
   "cell_type": "markdown",
   "id": "8e15e9a6",
   "metadata": {
    "papermill": {
     "duration": 0.004879,
     "end_time": "2022-09-24T09:28:52.118732",
     "exception": false,
     "start_time": "2022-09-24T09:28:52.113853",
     "status": "completed"
    },
    "tags": []
   },
   "source": [
    "## 3.1 탐색적 데이타분석 준비"
   ]
  },
  {
   "cell_type": "markdown",
   "id": "df11d621",
   "metadata": {
    "papermill": {
     "duration": 0.00468,
     "end_time": "2022-09-24T09:28:52.129824",
     "exception": false,
     "start_time": "2022-09-24T09:28:52.125144",
     "status": "completed"
    },
    "tags": []
   },
   "source": [
    "### 1) Train Data 기초 분석"
   ]
  },
  {
   "cell_type": "code",
   "execution_count": 9,
   "id": "7fa70c2c",
   "metadata": {
    "execution": {
     "iopub.execute_input": "2022-09-24T09:28:52.141456Z",
     "iopub.status.busy": "2022-09-24T09:28:52.141113Z",
     "iopub.status.idle": "2022-09-24T09:28:52.236747Z",
     "shell.execute_reply": "2022-09-24T09:28:52.235679Z"
    },
    "papermill": {
     "duration": 0.104337,
     "end_time": "2022-09-24T09:28:52.239243",
     "exception": false,
     "start_time": "2022-09-24T09:28:52.134906",
     "status": "completed"
    },
    "tags": []
   },
   "outputs": [],
   "source": [
    "# EDA를 위한 학습 데이터를 복사합니다.\n",
    "df_eda = df_train_raw.copy()"
   ]
  },
  {
   "cell_type": "code",
   "execution_count": 10,
   "id": "ea13283f",
   "metadata": {
    "execution": {
     "iopub.execute_input": "2022-09-24T09:28:52.250859Z",
     "iopub.status.busy": "2022-09-24T09:28:52.250559Z",
     "iopub.status.idle": "2022-09-24T09:28:53.914255Z",
     "shell.execute_reply": "2022-09-24T09:28:53.913193Z"
    },
    "papermill": {
     "duration": 1.672395,
     "end_time": "2022-09-24T09:28:53.916947",
     "exception": false,
     "start_time": "2022-09-24T09:28:52.244552",
     "status": "completed"
    },
    "tags": []
   },
   "outputs": [
    {
     "data": {
      "image/png": "[encoded data removed]",
      "text/plain": [
       "<Figure size 720x720 with 6 Axes>"
      ]
     },
     "metadata": {
      "needs_background": "light"
     },
     "output_type": "display_data"
    },
    {
     "name": "stdout",
     "output_type": "stream",
     "text": [
      "CPU times: user 1.6 s, sys: 165 ms, total: 1.77 s\n",
      "Wall time: 1.66 s\n"
     ]
    }
   ],
   "source": [
    "%%time\n",
    "%matplotlib inline\n",
    "df_eda.hist(bins=50, figsize=(10,10))\n",
    "plt.show()"
   ]
  },
  {
   "cell_type": "code",
   "execution_count": 11,
   "id": "a07106ab",
   "metadata": {
    "execution": {
     "iopub.execute_input": "2022-09-24T09:28:53.931380Z",
     "iopub.status.busy": "2022-09-24T09:28:53.930485Z",
     "iopub.status.idle": "2022-09-24T09:28:54.675065Z",
     "shell.execute_reply": "2022-09-24T09:28:54.674084Z"
    },
    "papermill": {
     "duration": 0.75489,
     "end_time": "2022-09-24T09:28:54.678631",
     "exception": false,
     "start_time": "2022-09-24T09:28:53.923741",
     "status": "completed"
    },
    "tags": []
   },
   "outputs": [
    {
     "data": {
      "image/png": "[encoded data removed]",
      "text/plain": [
       "<Figure size 720x720 with 2 Axes>"
      ]
     },
     "metadata": {},
     "output_type": "display_data"
    },
    {
     "name": "stdout",
     "output_type": "stream",
     "text": [
      "CPU times: user 752 ms, sys: 118 ms, total: 870 ms\n",
      "Wall time: 738 ms\n"
     ]
    }
   ],
   "source": [
    "%%time\n",
    "sns.set(font_scale=1)\n",
    "plt.figure(figsize=(10,10))\n",
    "#sns.heatmap(df_eda.drop('item_price',axis=1).corr(),cmap=\"BuPu\",annot=True)\n",
    "sns.heatmap(df_eda.corr(),fmt='.1f',cmap=\"coolwarm\",annot=True)\n",
    "plt.show()"
   ]
  },
  {
   "cell_type": "code",
   "execution_count": null,
   "id": "4c0876c2",
   "metadata": {
    "papermill": {
     "duration": 0.006085,
     "end_time": "2022-09-24T09:28:54.692062",
     "exception": false,
     "start_time": "2022-09-24T09:28:54.685977",
     "status": "completed"
    },
    "tags": []
   },
   "outputs": [],
   "source": []
  }
 ],
 "metadata": {
  "kernelspec": {
   "display_name": "Python 3",
   "language": "python",
   "name": "python3"
  },
  "language_info": {
   "codemirror_mode": {
    "name": "ipython",
    "version": 3
   },
   "file_extension": ".py",
   "mimetype": "text/x-python",
   "name": "python",
   "nbconvert_exporter": "python",
   "pygments_lexer": "ipython3",
   "version": "3.7.12"
  },
  "papermill": {
   "default_parameters": {},
   "duration": 30.195329,
   "end_time": "2022-09-24T09:28:55.921537",
   "environment_variables": {},
   "exception": null,
   "input_path": "__notebook__.ipynb",
   "output_path": "__notebook__.ipynb",
   "parameters": {},
   "start_time": "2022-09-24T09:28:25.726208",
   "version": "2.3.4"
  }
 },
 "nbformat": 4,
 "nbformat_minor": 5
}
